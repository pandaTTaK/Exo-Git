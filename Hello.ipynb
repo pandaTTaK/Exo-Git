{
 "cells": [
  {
   "cell_type": "code",
   "execution_count": 1,
   "metadata": {},
   "outputs": [
    {
     "name": "stdout",
     "output_type": "stream",
     "text": [
      "Hello World\n",
      "Il fait beau ce matin!\n",
      "il faut manger\n",
      "je modifie ton code!\n",
      "essaie:2e modification\n",
      "je rechange pour la 3e fois\n"
     ]
    }
   ],
   "source": [
    "print (\"Hello World\")\n",
    "print (\"Il fait beau ce matin!\")\n",
    "\n",
    "print(\"il faut manger\")\n",
    "print(\"je modifie ton code!\")\n",
    "print(\"essaie:2e modification\")\n",
    "print(\"je rechange pour la 3e fois\")"
   ]
  },
  {
   "cell_type": "code",
   "execution_count": null,
   "metadata": {},
   "outputs": [],
   "source": []
  }
 ],
 "metadata": {
  "kernelspec": {
   "display_name": "Python 3",
   "language": "python",
   "name": "python3"
  },
  "language_info": {
   "codemirror_mode": {
    "name": "ipython",
    "version": 3
   },
   "file_extension": ".py",
   "mimetype": "text/x-python",
   "name": "python",
   "nbconvert_exporter": "python",
   "pygments_lexer": "ipython3",
   "version": "3.7.6"
  }
 },
 "nbformat": 4,
 "nbformat_minor": 4
}
